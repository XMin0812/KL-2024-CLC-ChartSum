{
 "cells": [
  {
   "cell_type": "markdown",
   "metadata": {},
   "source": [
    "# 1. Tải thư viện"
   ]
  },
  {
   "cell_type": "code",
   "execution_count": null,
   "metadata": {},
   "outputs": [],
   "source": [
    "!pip install -r requirements.txt"
   ]
  },
  {
   "cell_type": "markdown",
   "metadata": {},
   "source": [
    "# 2. Tiền xử lý dữ liệu"
   ]
  },
  {
   "cell_type": "code",
   "execution_count": null,
   "metadata": {},
   "outputs": [],
   "source": [
    "!python ./preprocessDataset.py"
   ]
  },
  {
   "cell_type": "markdown",
   "metadata": {},
   "source": [
    "# 3. Huấn luyện mô hình"
   ]
  },
  {
   "cell_type": "code",
   "execution_count": null,
   "metadata": {},
   "outputs": [],
   "source": [
    "!CUDA_VISIBLE_DEVICES=0 python \"run_summarization.py\" \\\n",
    " --model_name_or_path bart-base   \\\n",
    " --do_train --do_eval     \\\n",
    " --train_file data/train.json \\\n",
    " --validation_file data/valid.json \\\n",
    " --test_file data/test.json     \\\n",
    " --output_dir model_checkpoints   --overwrite_output_dir     \\\n",
    " --max_target_length 4096 \\\n",
    " --per_device_train_batch_size=2     \\\n",
    " --per_device_eval_batch_size=4 \\\n",
    " --text_column text    \\\n",
    " --summary_column summary \\\n",
    " --evaluation_strategy steps \\\n",
    " --eval_accumulation_steps 1000 \\\n",
    " --save_steps 1000 \\\n",
    " --eval_steps 1000 \\\n",
    " --num_train_epochs 20 \\\n",
    " --fp16"
   ]
  },
  {
   "cell_type": "markdown",
   "metadata": {},
   "source": [
    "# 4. Đánh giá văn bản "
   ]
  },
  {
   "cell_type": "markdown",
   "metadata": {},
   "source": [
    "## 4.1 Quá trình sinh câu dự đoán cho việc tóm tắt văn bản"
   ]
  },
  {
   "cell_type": "code",
   "execution_count": null,
   "metadata": {},
   "outputs": [],
   "source": [
    "!CUDA_VISIBLE_DEVICES=0 python3 run_summarization.py    \\\n",
    " --model_name_or_path model_checkpoints/checkpoint-20000   \\\n",
    " --do_predict    \\\n",
    " --train_file data/train.json \\\n",
    " --validation_file data/valid.json \\\n",
    " --test_file data/test.json     \\\n",
    " --output_dir evaluation     --overwrite_output_dir     \\\n",
    " --per_device_eval_batch_size=20 \\\n",
    " --text_column text    \\\n",
    " --summary_column summary \\\n",
    " --predict_with_generate"
   ]
  },
  {
   "cell_type": "markdown",
   "metadata": {},
   "source": [
    "## 4.2 Điểm Bleu và Rouge của kết quả dự đoán của mô hình"
   ]
  },
  {
   "cell_type": "code",
   "execution_count": null,
   "metadata": {},
   "outputs": [],
   "source": [
    "import json\n",
    "import evaluate\n",
    "\n",
    "Predicts = []\n",
    "References = []\n",
    "\n",
    "with open(\"data/test.json\", \"r\") as file:\n",
    "    data = json.load(file)\n",
    "    References = [item[\"summary\"] for item in data]\n",
    "with open(\"evaluation/generated_predictions.txt\", \"r\") as file:\n",
    "    for line in file:\n",
    "      Predicts.append(line.strip())\n",
    "\n",
    "bleu = evaluate.load(\"bleu\")\n",
    "rouge = evaluate.load('rouge')\n",
    "results_bleu = bleu.compute(predictions = Predicts, references = References)\n",
    "results_rouge = rouge.compute(predictions = Predicts, references = References)\n",
    "print(\"Bleu score : \", results_bleu)\n",
    "print(\"Rouge score: \", results_rouge)"
   ]
  }
 ],
 "metadata": {
  "kernelspec": {
   "display_name": "base",
   "language": "python",
   "name": "python3"
  },
  "language_info": {
   "name": "python",
   "version": "3.9.12"
  }
 },
 "nbformat": 4,
 "nbformat_minor": 2
}
