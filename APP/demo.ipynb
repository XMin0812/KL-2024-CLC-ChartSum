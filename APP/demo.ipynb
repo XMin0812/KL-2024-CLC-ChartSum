{
 "cells": [
  {
   "cell_type": "markdown",
   "metadata": {},
   "source": [
    "## Làm sạch thư mục dowload của kaggle"
   ]
  },
  {
   "cell_type": "code",
   "execution_count": null,
   "metadata": {},
   "outputs": [],
   "source": [
    "import os\n",
    "\n",
    "path = \"/kaggle/working/\"\n",
    "for file_name in os.listdir(path):\n",
    "    file = path + file_name\n",
    "    if os.path.isfile(file):\n",
    "        print('Deleting file:', file)\n",
    "        os.remove(file)"
   ]
  },
  {
   "cell_type": "markdown",
   "metadata": {},
   "source": [
    "## Tải thư viện"
   ]
  },
  {
   "cell_type": "code",
   "execution_count": null,
   "metadata": {},
   "outputs": [],
   "source": [
    "!pip install --no-dependencies --quiet streamlit\n",
    "!pip install matplotlib\n",
    "!pip install pandas\n",
    "!pip install datetime\n",
    "!pip install --upgrade pip setuptools\n",
    "!pip install torch\n",
    "!pip install transformers"
   ]
  },
  {
   "cell_type": "code",
   "execution_count": null,
   "metadata": {},
   "outputs": [],
   "source": [
    "!curl -s https://ngrok-agent.s3.amazonaws.com/ngrok.asc \\\n",
    "\t| sudo tee /etc/apt/trusted.gpg.d/ngrok.asc >/dev/null \\\n",
    "\t&& echo \"deb https://ngrok-agent.s3.amazonaws.com buster main\" \\\n",
    "\t| sudo tee /etc/apt/sources.list.d/ngrok.list \\\n",
    "\t&& sudo apt update \\\n",
    "\t&& sudo apt install ngrok"
   ]
  },
  {
   "cell_type": "code",
   "execution_count": null,
   "metadata": {},
   "outputs": [],
   "source": [
    "!pip install --quiet pyngrok"
   ]
  },
  {
   "cell_type": "code",
   "execution_count": null,
   "metadata": {},
   "outputs": [],
   "source": [
    "!pip install --no-dependencies --quiet protobuf==3.20.*   #==4.21.12"
   ]
  },
  {
   "cell_type": "code",
   "execution_count": null,
   "metadata": {},
   "outputs": [],
   "source": [
    "!pip install --no-dependencies --quiet validators"
   ]
  },
  {
   "cell_type": "code",
   "execution_count": null,
   "metadata": {},
   "outputs": [],
   "source": [
    "!ngrok config add-authtoken 2hmcMJdnkF1N4BgmhfE4DMTi2el_2c7Khyg63zX7okMa2T5r5"
   ]
  },
  {
   "cell_type": "markdown",
   "metadata": {},
   "source": [
    "## Chạy sản phẩm"
   ]
  },
  {
   "cell_type": "code",
   "execution_count": null,
   "metadata": {},
   "outputs": [],
   "source": [
    "%%writefile config.json\n",
    "{\n",
    "    \"test_1.csv\": {\n",
    "        \"type\": \"line\",\n",
    "        \"title\": \"Số lượng người dùng Facebook hoạt động hàng tháng trên toàn thế giới tính đến quý 3 năm 2020 (tính bằng triệu)\",\n",
    "        \"column\": \"Số lượng người dùng tính bằng triệu\"\n",
    "    },\n",
    "    \"test_2.csv\": {\n",
    "        \"type\": \"column\",\n",
    "        \"title\": \"Hoa Kỳ: giá trị tài sản ròng ước tính của 20 người giàu nhất tính đến tháng 3 năm 2020 (tính bằng tỷ đô la Mỹ)\",\n",
    "        \"column\": \"Giá trị ròng tính bằng tỷ đô la Mỹ\"\n",
    "    },\n",
    "    \"test_3.csv\": {\n",
    "        \"type\": \"line\",\n",
    "        \"title\": \"Doanh thu và thu nhập ròng của Facebook từ năm 2007 đến 2019 (triệu đô la Mỹ)\",\n",
    "        \"column\": \"Số tiền tính bằng triệu USD\"\n",
    "    }\n",
    "}\n"
   ]
  },
  {
   "cell_type": "code",
   "execution_count": null,
   "metadata": {},
   "outputs": [],
   "source": [
    "%%writefile process.py\n",
    "import torch\n",
    "from transformers import LlamaForCausalLM, LlamaTokenizer\n",
    "from datasets import load_dataset\n",
    "import json\n",
    "from random import randint\n",
    "import pandas as pd\n",
    "from transformers import GenerationConfig\n",
    "\n",
    "path = \"/kaggle/input/data-chart/data/\"\n",
    "def cleanAxisValue(value):\n",
    "    if value == '-' or value == 'nan':\n",
    "        return '0'\n",
    "    cleanValue = value.replace('|', '').replace(',', '').replace('%', '').replace('*', '')\n",
    "    return cleanValue\n",
    "\n",
    "def preprocess_dataset(file_name, config):\n",
    "    df = pd.read_csv(path + file_name)\n",
    "    column = df.columns.tolist()\n",
    "    column_input = ' | '.join(cleanAxisValue(column[i]) for i in range(len(column)))\n",
    "    row_input = ' ; '.join(' | '.join(cleanAxisValue(str(df.loc[index_row, col])) for col in column) for index_row in range(len(df)))\n",
    "    input = column_input + ' ; ' + row_input\n",
    "    instruction = config[file_name]['title']\n",
    "    result = {'instruction': instruction, 'input': input}\n",
    "    return result\n",
    "\n",
    "def load_model():\n",
    "    #Load model\n",
    "    base_model = \"XMin08/Model_Llama2_new_v4\"\n",
    "\n",
    "    tokenizer = LlamaTokenizer.from_pretrained(base_model)\n",
    "    model = LlamaForCausalLM.from_pretrained(\n",
    "        base_model,\n",
    "        load_in_8bit=False,\n",
    "        torch_dtype=torch.float16,\n",
    "        device_map=\"auto\",\n",
    "    )\n",
    "#     model = LlamaForCausalLM.from_pretrained(\n",
    "#         base_model,\n",
    "#         torch_dtype=torch.float32,  # Sử dụng float32 cho CPU\n",
    "#     ).to('cpu')  # Chuyển mô hình sang CPU\n",
    "    \n",
    "    model.config.pad_token_id = tokenizer.pad_token_id = 0  # unk\n",
    "    model.config.bos_token_id = 1\n",
    "    model.config.eos_token_id = 2\n",
    "    return model, tokenizer\n",
    "\n",
    "def generate_output(data, model, tokenizer):\n",
    "    prompt = \"\"\"\n",
    "                  Below is an instruction that describes a task, paired with an input that provides further context.\n",
    "                  Write a response that appropriately completes the request.\n",
    "\n",
    "    ### Instruction:\\n{}\\n\\n### Input:\\n{}\\n\\n### Response:\n",
    "    \"\"\"\n",
    "\n",
    "    generation_config = GenerationConfig(\n",
    "        temperature=0.1,\n",
    "        top_p=0.75,\n",
    "        top_k=40,\n",
    "        num_beams=4,\n",
    "        do_sample = True\n",
    "    )\n",
    "\n",
    "    prompt_sentence = prompt.format(data['instruction'], data['input'])\n",
    "    inputs = tokenizer(prompt_sentence, return_tensors=\"pt\")\n",
    "    input_ids = inputs[\"input_ids\"].to(\"cuda\")\n",
    "    generation_output = model.generate(\n",
    "            input_ids=input_ids,\n",
    "            generation_config=generation_config,\n",
    "            return_dict_in_generate=True,\n",
    "            output_scores=True,\n",
    "            max_new_tokens=512,\n",
    "            )\n",
    "    s = generation_output.sequences[0]\n",
    "    output = tokenizer.decode(s)\n",
    "    predict = output.split(\"### Response:\")[1].strip().split(\"</s>\")[0].strip()\n",
    "    return predict\n"
   ]
  },
  {
   "cell_type": "code",
   "execution_count": null,
   "metadata": {},
   "outputs": [],
   "source": [
    "%%writefile app.py\n",
    "import streamlit as st\n",
    "import pandas as pd\n",
    "import matplotlib.pyplot as plt\n",
    "import os\n",
    "import json\n",
    "from process import preprocess_dataset, load_model, generate_output\n",
    "\n",
    "# Đọc dữ liệu từ file CSV\n",
    "@st.cache_resource  # Cache dữ liệu để tăng tốc độ xử lý\n",
    "def load_data(file_path):\n",
    "    return pd.read_csv(path + file_path)\n",
    "\n",
    "# Hàm để đọc tệp cấu hình JSON\n",
    "def read_config(file):\n",
    "    with open(file, 'r', encoding='utf-8') as f:\n",
    "        return json.load(f)\n",
    "\n",
    "@st.cache_resource\n",
    "def load_model_once():\n",
    "    return load_model()\n",
    "\n",
    "path = \"/kaggle/input/data-chart/data/\"\n",
    "# Lấy danh sách các tệp CSV trong thư mục\n",
    "csv_files = [file for file in os.listdir(path) if file.endswith('.csv')]\n",
    "\n",
    "# Load Model\n",
    "model, tokenizer = load_model_once()\n",
    "\n",
    "# Kiểm tra nếu không có tệp CSV nào\n",
    "if not csv_files:\n",
    "    st.error(\"Không có tệp CSV nào trong thư mục.\")\n",
    "else:\n",
    "    # Tạo sidebar cho việc lựa chọn tệp CSV và các tùy chọn khác\n",
    "    st.sidebar.title(\"Tùy chọn\")\n",
    "    selected_file = st.sidebar.selectbox('Chọn tệp CSV:', [file.split('.')[0] for file in csv_files])\n",
    "    selected_file += '.csv'\n",
    "\n",
    "    # Đọc dữ liệu từ tệp CSV được chọn\n",
    "    data = load_data(selected_file)\n",
    "\n",
    "    # Đọc cấu hình từ file config.json\n",
    "    config = read_config('config.json')\n",
    "\n",
    "    # Lấy thông tin cấu hình cho tệp CSV được chọn\n",
    "    file_config = config.get(selected_file, {})\n",
    "    chart_type = file_config.get('type', 'column')\n",
    "    y_column = file_config.get('column', None)\n",
    "    title = file_config.get('title', f'Tiêu đề của Biểu đồ {selected_file}')\n",
    "\n",
    "    # Lấy tên cột đầu tiên làm trục x\n",
    "    x_column = data.columns[0]\n",
    "\n",
    "    # Tạo danh sách các cột (trừ cột đầu tiên) làm trục y\n",
    "    y_columns = data.columns[1:]\n",
    "\n",
    "    # Tiêu đề chính cho ứng dụng\n",
    "    st.title('Hiển thị biểu đồ với Streamlit')\n",
    "\n",
    "    # Hiển thị tiêu đề cho biểu đồ\n",
    "    st.header(title)\n",
    "\n",
    "    # Hiển thị DataFrame\n",
    "    with st.expander(\"Hiển thị dữ liệu mẫu\"):\n",
    "        st.write(data)\n",
    "\n",
    "    # Vẽ biểu đồ dựa trên lựa chọn\n",
    "    st.subheader(\"Biểu đồ:\")\n",
    "    fig, ax = plt.subplots(figsize=(14, 7))  # Thay đổi kích thước biểu đồ\n",
    "\n",
    "    if chart_type == 'line':\n",
    "        # Vẽ biểu đồ đường cho mỗi cột trên trục y\n",
    "        for column in y_columns:\n",
    "            ax.plot(data[x_column], data[column], marker='o', label=column)\n",
    "        ax.set_title(title)\n",
    "    elif chart_type == 'column':\n",
    "        # Vẽ biểu đồ cột cho mỗi cột trên trục y\n",
    "        for column in y_columns:\n",
    "            ax.bar(data[x_column], data[column], label=column)\n",
    "        ax.set_title(title)\n",
    "\n",
    "    ax.set_xlabel(x_column)\n",
    "    ax.set_ylabel(y_column)\n",
    "    plt.xticks(rotation=45, ha='right') \n",
    "    ax.legend()\n",
    "    st.pyplot(fig)\n",
    "\n",
    "    # Tạo một nút để hiển thị đoạn văn bản\n",
    "    if st.button('Generate'):\n",
    "        preprocess_data = preprocess_dataset(selected_file, config)\n",
    "        predict = generate_output(preprocess_data, model, tokenizer)\n",
    "        st.markdown(f\"\"\"\n",
    "            ### Thông tin\n",
    "            Output: {predict}\n",
    "        \"\"\")\n"
   ]
  },
  {
   "cell_type": "code",
   "execution_count": null,
   "metadata": {},
   "outputs": [],
   "source": [
    "# !streamlit run --server.port 80 my_app.py > /dev/null\n",
    "\n",
    "import subprocess\n",
    "subprocess.Popen([\"streamlit\", \"run\", \"--server.port\", \"80\", \"app.py\"])"
   ]
  },
  {
   "cell_type": "code",
   "execution_count": null,
   "metadata": {},
   "outputs": [],
   "source": [
    "!ngrok http 80"
   ]
  }
 ],
 "metadata": {
  "language_info": {
   "name": "python"
  }
 },
 "nbformat": 4,
 "nbformat_minor": 2
}
